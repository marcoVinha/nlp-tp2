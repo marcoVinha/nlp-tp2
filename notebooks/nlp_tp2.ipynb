{
 "cells": [
  {
   "cell_type": "markdown",
   "metadata": {},
   "source": [
    "# Fine tuning BERTimbau to perform Parts of Speech Tagging\n",
    "\n",
    "This notebook fine tunes a BERTimbau model (`neuralmind/bert-base-portuguese-cased`, 110M parameters) in the Mac-Morpho dataset to perform a Parts of Speech Tagging (POS Tagging) task in portuguese.\n",
    "\n",
    "The evaluation of this model's performance consists in:\n",
    "- Calculating three different metrics on the test dataset:\n",
    "    - Macro precision\n",
    "    - Weighted precision\n",
    "    - Per-class precision\n",
    "- Comparing these metrics with the ones obtained by a competitor model:\n",
    "    - The competitor model is the `lisaterumi/postagger-portuguese`\n",
    "    - This model is also a BERTimbau-based model\n",
    "    - This model is also fine tuned to perform POS Tagging in the Mac-Morpho dataset\n",
    "\n",
    "In practice, the model we'll fine tune aims to reproduce the results of the `lisaterumi/postagger-portuguese` model."
   ]
  },
  {
   "cell_type": "code",
   "execution_count": 1,
   "metadata": {},
   "outputs": [],
   "source": [
    "dataset_name = \"nilc-nlp/mac_morpho\"\n",
    "model_name = \"neuralmind/bert-base-portuguese-cased\"\n",
    "competitor_model_name = \"lisaterumi/postagger-portuguese\""
   ]
  },
  {
   "cell_type": "markdown",
   "metadata": {},
   "source": [
    "# The dataset\n",
    "\n",
    "From the official Mac-Morpho [web-page](http://nilc.icmc.usp.br/macmorpho/):\n",
    "\n",
    "> Mac-Morpho is a corpus of Brazilian Portuguese texts annotated with part-of-speech tags. Its first version was released in 2003, and since then, two revisions have been made in order to improve the quality of the resource.\n",
    "\n",
    "According to the [dataset manual](http://nilc.icmc.usp.br/macmorpho/macmorpho-manual.pdf), it is already split in a train, a validation and a test sub-sets, and it contains a total of 27 possible classes/tags. The following table shows the classes in our dataset:\n",
    "\n",
    "\n",
    "| Tag |  Meaning (grammatical class in portuguese)|\n",
    "| ------------------- | ------------------- |\n",
    "|  ADJ |  Adjetivo |\n",
    "|  ADV |  Advérbio |\n",
    "|  ADV-KS |  Advérbio conjuntivo subordinado  |\n",
    "|  ADV-KS-REL |   Advérbio relativo subordinado |\n",
    "|  ART |  Artigo  |\n",
    "|  CUR |  Moeda  |\n",
    "|  IN |  Interjeição |\n",
    "|  KC |  Conjunção coordenativa |\n",
    "|  KS |  Conjunção subordinativa |\n",
    "|  N |  Substantivo |\n",
    "|  NPROP | Substantivo próprio |\n",
    "|  NUM |  Número |\n",
    "|  PCP |  Particípio |\n",
    "|  PDEN |  Palavra denotativa |\n",
    "|  PREP |  Preposição |\n",
    "|  PROADJ |  Pronome Adjetivo |\n",
    "|  PRO-KS |  Pronome conjuntivo subordinado |\n",
    "|  PRO-KS-REL |  Pronome relativo conectivo subordinado |\n",
    "|  PROPESS |  Pronome pessoal |\n",
    "|  PROSUB |  Pronome nominal |\n",
    "|  V | Verbo |\n",
    "|  VAUX  | Verbo auxiliar |\n",
    "\n",
    "Next, we'll prepare the dataset for the fine tuning task.\n"
   ]
  },
  {
   "cell_type": "markdown",
   "metadata": {},
   "source": [
    "## Load dataset from HuggingFace"
   ]
  },
  {
   "cell_type": "code",
   "execution_count": 2,
   "metadata": {},
   "outputs": [
    {
     "name": "stderr",
     "output_type": "stream",
     "text": [
      "/root/nlp-tp2/.venv/lib/python3.10/site-packages/tqdm/auto.py:21: TqdmWarning: IProgress not found. Please update jupyter and ipywidgets. See https://ipywidgets.readthedocs.io/en/stable/user_install.html\n",
      "  from .autonotebook import tqdm as notebook_tqdm\n"
     ]
    }
   ],
   "source": [
    "from datasets import load_dataset\n",
    "\n",
    "dataset = load_dataset(dataset_name, trust_remote_code=True)"
   ]
  },
  {
   "cell_type": "markdown",
   "metadata": {},
   "source": [
    "## Creating maps from label to ID and vice-versa"
   ]
  },
  {
   "cell_type": "code",
   "execution_count": 3,
   "metadata": {},
   "outputs": [
    {
     "data": {
      "text/plain": [
       "{'PREP+PROADJ': 0,\n",
       " 'IN': 1,\n",
       " 'PREP+PRO-KS': 2,\n",
       " 'NPROP': 3,\n",
       " 'PREP+PROSUB': 4,\n",
       " 'KC': 5,\n",
       " 'PROPESS': 6,\n",
       " 'NUM': 7,\n",
       " 'PROADJ': 8,\n",
       " 'PREP+ART': 9,\n",
       " 'KS': 10,\n",
       " 'PRO-KS': 11,\n",
       " 'ADJ': 12,\n",
       " 'ADV-KS': 13,\n",
       " 'N': 14,\n",
       " 'PREP': 15,\n",
       " 'PROSUB': 16,\n",
       " 'PREP+PROPESS': 17,\n",
       " 'PDEN': 18,\n",
       " 'V': 19,\n",
       " 'PREP+ADV': 20,\n",
       " 'PCP': 21,\n",
       " 'CUR': 22,\n",
       " 'ADV': 23,\n",
       " 'PU': 24,\n",
       " 'ART': 25}"
      ]
     },
     "execution_count": 3,
     "metadata": {},
     "output_type": "execute_result"
    }
   ],
   "source": [
    "# Get unique labels\n",
    "labels = dataset[\"train\"].features[\"pos_tags\"].feature.names\n",
    "\n",
    "# Create the mappings\n",
    "label2id = {label: i for i, label in enumerate(labels)}\n",
    "id2label = {i: label for label, i in label2id.items()}\n",
    "\n",
    "label2id"
   ]
  },
  {
   "cell_type": "markdown",
   "metadata": {},
   "source": [
    "## Loading the BERTimbau tokenizer from HuggingFace"
   ]
  },
  {
   "cell_type": "code",
   "execution_count": 4,
   "metadata": {},
   "outputs": [],
   "source": [
    "from transformers import AutoTokenizer\n",
    "\n",
    "tokenizer = AutoTokenizer.from_pretrained(\n",
    "    model_name,\n",
    ")"
   ]
  },
  {
   "cell_type": "code",
   "execution_count": 5,
   "metadata": {},
   "outputs": [],
   "source": [
    "from transformers import DataCollatorForTokenClassification\n",
    "\n",
    "data_collator = DataCollatorForTokenClassification(tokenizer)"
   ]
  },
  {
   "cell_type": "markdown",
   "metadata": {},
   "source": [
    "## Tokenize and align dataset\n",
    "\n",
    "The tokenization process (transforming words/tokens in numbers) is an already known sub-task in NLP tasks, so we'll skip any explanations. But one additional thing we'll do is **aligning** the labels with the correct tokens we want to classify.\n",
    "\n",
    "Aligning, in this context, means *knowing what subwords/tokens of a word we want to tag*. When you tokenize a sentence, especially using subword tokenizers (which is the case with the tokenizer we're using), the sentence is split into subword tokens. Because of this, we need to ensure that the labels are correctly associated with these tokens. This is where label alignment comes into play.\n",
    "\n",
    "In our dataset, each word has a single label, but tokenization may result in subwords. In the end of our tokenization process, the number of tokens often exceeds the number of original words. For example:\n",
    "- Imagine our labels look something like: `label2id = {\"NOUN\": 0, \"VERB\": 1, ...}`\n",
    "- Now imagine that we're trying to classify the word `playing` into a `VERB`\n",
    "- When we tokenized THE word, it is broken into **two tokens**: `[\"play\", \"ing\"]`\n",
    "- What should we tag as a `VERB`: `play`, or `ing`?\n",
    "\n",
    "In this case, we'll fix this by \"aligning\" our dataset:\n",
    "1. The first token of a word (in our case, `play`) will be tagged with the original word's label (in our case, `VERB`, with value `1`).\n",
    "2. The following tokens, will be ignored if we assign a special value/class to it. Typically, when we assign the value of `-100`, our model is already able to ignore the token, excluding it from the loss function calculation during training.\n",
    "\n",
    "\n"
   ]
  },
  {
   "cell_type": "code",
   "execution_count": 6,
   "metadata": {},
   "outputs": [],
   "source": [
    "def tokenize_and_align_labels(examples):\n",
    "    tokenized_inputs = tokenizer(\n",
    "        examples[\"tokens\"], truncation=True, padding=True, is_split_into_words=True\n",
    "    )\n",
    "\n",
    "    labels = []\n",
    "    for i, label in enumerate(examples[\"pos_tags\"]):\n",
    "        word_ids = tokenized_inputs.word_ids(batch_index=i)\n",
    "        aligned_labels = []\n",
    "        previous_word_id = None\n",
    "        for word_id in word_ids:\n",
    "            if word_id is None:\n",
    "                aligned_labels.append(-100)\n",
    "            elif word_id != previous_word_id:\n",
    "                aligned_labels.append(label[word_id])\n",
    "            else:\n",
    "                aligned_labels.append(-100)\n",
    "            previous_word_id = word_id\n",
    "        labels.append(aligned_labels)\n",
    "\n",
    "    tokenized_inputs[\"labels\"] = labels\n",
    "    return tokenized_inputs\n",
    "\n",
    "\n",
    "tokenized_dataset = dataset.map(tokenize_and_align_labels, batched=True)"
   ]
  },
  {
   "cell_type": "markdown",
   "metadata": {},
   "source": [
    "# Fine tune our model\n",
    "\n",
    "We'll fine tune our model for only $5$ epochs, and we'll use a learning rate of $5\\mathrm{e}{-5}$. Our dataset is split in train (37948 samples), validation (1997 samples) and test (9987 samples) sub-sets."
   ]
  },
  {
   "cell_type": "markdown",
   "metadata": {},
   "source": [
    "## Download model from HuggingFace"
   ]
  },
  {
   "cell_type": "code",
   "execution_count": 7,
   "metadata": {},
   "outputs": [
    {
     "name": "stderr",
     "output_type": "stream",
     "text": [
      "Some weights of BertForTokenClassification were not initialized from the model checkpoint at neuralmind/bert-base-portuguese-cased and are newly initialized: ['classifier.bias', 'classifier.weight']\n",
      "You should probably TRAIN this model on a down-stream task to be able to use it for predictions and inference.\n"
     ]
    },
    {
     "data": {
      "text/plain": [
       "BertForTokenClassification(\n",
       "  (bert): BertModel(\n",
       "    (embeddings): BertEmbeddings(\n",
       "      (word_embeddings): Embedding(29794, 768, padding_idx=0)\n",
       "      (position_embeddings): Embedding(512, 768)\n",
       "      (token_type_embeddings): Embedding(2, 768)\n",
       "      (LayerNorm): LayerNorm((768,), eps=1e-12, elementwise_affine=True)\n",
       "      (dropout): Dropout(p=0.1, inplace=False)\n",
       "    )\n",
       "    (encoder): BertEncoder(\n",
       "      (layer): ModuleList(\n",
       "        (0-11): 12 x BertLayer(\n",
       "          (attention): BertAttention(\n",
       "            (self): BertSdpaSelfAttention(\n",
       "              (query): Linear(in_features=768, out_features=768, bias=True)\n",
       "              (key): Linear(in_features=768, out_features=768, bias=True)\n",
       "              (value): Linear(in_features=768, out_features=768, bias=True)\n",
       "              (dropout): Dropout(p=0.1, inplace=False)\n",
       "            )\n",
       "            (output): BertSelfOutput(\n",
       "              (dense): Linear(in_features=768, out_features=768, bias=True)\n",
       "              (LayerNorm): LayerNorm((768,), eps=1e-12, elementwise_affine=True)\n",
       "              (dropout): Dropout(p=0.1, inplace=False)\n",
       "            )\n",
       "          )\n",
       "          (intermediate): BertIntermediate(\n",
       "            (dense): Linear(in_features=768, out_features=3072, bias=True)\n",
       "            (intermediate_act_fn): GELUActivation()\n",
       "          )\n",
       "          (output): BertOutput(\n",
       "            (dense): Linear(in_features=3072, out_features=768, bias=True)\n",
       "            (LayerNorm): LayerNorm((768,), eps=1e-12, elementwise_affine=True)\n",
       "            (dropout): Dropout(p=0.1, inplace=False)\n",
       "          )\n",
       "        )\n",
       "      )\n",
       "    )\n",
       "  )\n",
       "  (dropout): Dropout(p=0.1, inplace=False)\n",
       "  (classifier): Linear(in_features=768, out_features=26, bias=True)\n",
       ")"
      ]
     },
     "execution_count": 7,
     "metadata": {},
     "output_type": "execute_result"
    }
   ],
   "source": [
    "from transformers import AutoModelForTokenClassification\n",
    "\n",
    "\n",
    "model = AutoModelForTokenClassification.from_pretrained(\n",
    "    model_name, num_labels=len(label2id), id2label=id2label, label2id=label2id\n",
    ")\n",
    "\n",
    "model.to(\"cuda\")"
   ]
  },
  {
   "cell_type": "markdown",
   "metadata": {},
   "source": [
    "## Define fine tuning routine"
   ]
  },
  {
   "cell_type": "markdown",
   "metadata": {},
   "source": [
    "### Defining custom metrics to evaluate model"
   ]
  },
  {
   "cell_type": "code",
   "execution_count": 8,
   "metadata": {},
   "outputs": [],
   "source": [
    "from sklearn.metrics import precision_score\n",
    "import numpy as np\n",
    "\n",
    "\n",
    "def compute_metrics(p):\n",
    "    predictions, labels = p\n",
    "\n",
    "    # Get predicted labels by taking argmax\n",
    "    predictions = np.argmax(predictions, axis=-1)\n",
    "\n",
    "    # Flatten and filter out ignored tokens (-100)\n",
    "    true_labels = labels.flatten()\n",
    "    pred_labels = predictions.flatten()\n",
    "    mask = true_labels != -100\n",
    "    true_labels = true_labels[mask]\n",
    "    pred_labels = pred_labels[mask]\n",
    "\n",
    "    # Compute precision\n",
    "    macro_precision = precision_score(\n",
    "        true_labels, pred_labels, average=\"macro\", zero_division=0\n",
    "    )\n",
    "    weighted_precision = precision_score(\n",
    "        true_labels, pred_labels, average=\"weighted\", zero_division=0\n",
    "    )\n",
    "    per_class_precision = precision_score(\n",
    "        true_labels, pred_labels, average=None, zero_division=0\n",
    "    )\n",
    "\n",
    "    # Map class indices to precision values\n",
    "    unique_tags = np.unique(true_labels)\n",
    "    per_class_precision_dict = {\n",
    "        id2label[int(tag)]: float(per_class_precision[i])\n",
    "        for i, tag in enumerate(unique_tags)\n",
    "    }\n",
    "\n",
    "    return {\n",
    "        \"macro_precision\": macro_precision,\n",
    "        \"weighted_precision\": weighted_precision,\n",
    "        \"per_class_precision\": per_class_precision_dict,\n",
    "    }"
   ]
  },
  {
   "cell_type": "code",
   "execution_count": 9,
   "metadata": {},
   "outputs": [
    {
     "name": "stderr",
     "output_type": "stream",
     "text": [
      "/root/nlp-tp2/.venv/lib/python3.10/site-packages/transformers/training_args.py:1575: FutureWarning: `evaluation_strategy` is deprecated and will be removed in version 4.46 of 🤗 Transformers. Use `eval_strategy` instead\n",
      "  warnings.warn(\n"
     ]
    }
   ],
   "source": [
    "from transformers import TrainingArguments, Trainer\n",
    "\n",
    "training_args = TrainingArguments(\n",
    "    output_dir=\".results\",\n",
    "    evaluation_strategy=\"epoch\",\n",
    "    learning_rate=5e-5,\n",
    "    num_train_epochs=5,\n",
    "    save_strategy=\"epoch\",\n",
    "    use_cpu=False,\n",
    ")\n",
    "\n",
    "trainer = Trainer(\n",
    "    model=model,\n",
    "    args=training_args,\n",
    "    train_dataset=tokenized_dataset[\"train\"],\n",
    "    eval_dataset=tokenized_dataset[\"validation\"],\n",
    "    data_collator=data_collator,\n",
    "    processing_class=tokenizer,\n",
    "    compute_metrics=compute_metrics,\n",
    ")"
   ]
  },
  {
   "cell_type": "code",
   "execution_count": 10,
   "metadata": {},
   "outputs": [
    {
     "data": {
      "text/html": [
       "\n",
       "    <div>\n",
       "      \n",
       "      <progress value='23720' max='23720' style='width:300px; height:20px; vertical-align: middle;'></progress>\n",
       "      [23720/23720 27:50, Epoch 5/5]\n",
       "    </div>\n",
       "    <table border=\"1\" class=\"dataframe\">\n",
       "  <thead>\n",
       " <tr style=\"text-align: left;\">\n",
       "      <th>Epoch</th>\n",
       "      <th>Training Loss</th>\n",
       "      <th>Validation Loss</th>\n",
       "      <th>Macro Precision</th>\n",
       "      <th>Weighted Precision</th>\n",
       "      <th>Per Class Precision</th>\n",
       "    </tr>\n",
       "  </thead>\n",
       "  <tbody>\n",
       "    <tr>\n",
       "      <td>1</td>\n",
       "      <td>0.065700</td>\n",
       "      <td>0.063212</td>\n",
       "      <td>0.954937</td>\n",
       "      <td>0.982785</td>\n",
       "      <td>{'PREP+PROADJ': 1.0, 'IN': 0.8, 'PREP+PRO-KS': 0.8333333333333334, 'NPROP': 0.9725274725274725, 'PREP+PROSUB': 0.8846153846153846, 'KC': 0.9881209503239741, 'PROPESS': 0.993006993006993, 'NUM': 0.9782923299565847, 'PROADJ': 0.9766277128547579, 'PREP+ART': 0.9893179950698439, 'KS': 0.9192139737991266, 'PRO-KS': 0.9170212765957447, 'ADJ': 0.9708470847084708, 'ADV-KS': 0.9, 'N': 0.9856175972927242, 'PREP': 0.9795329309892417, 'PROSUB': 0.9183673469387755, 'PREP+PROPESS': 1.0, 'PDEN': 0.9217391304347826, 'V': 0.9967312044254463, 'PREP+ADV': 1.0, 'PCP': 0.9818840579710145, 'CUR': 0.991304347826087, 'ADV': 0.9424307036247335, 'PU': 0.9994763484028626, 'ART': 0.9883601506333447}</td>\n",
       "    </tr>\n",
       "    <tr>\n",
       "      <td>2</td>\n",
       "      <td>0.047200</td>\n",
       "      <td>0.062576</td>\n",
       "      <td>0.944052</td>\n",
       "      <td>0.983401</td>\n",
       "      <td>{'PREP+PROADJ': 1.0, 'IN': 0.7142857142857143, 'PREP+PRO-KS': 0.8, 'NPROP': 0.976890756302521, 'PREP+PROSUB': 0.7666666666666667, 'KC': 0.9934924078091106, 'PROPESS': 0.9907407407407407, 'NUM': 0.9687943262411347, 'PROADJ': 0.975, 'PREP+ART': 0.989339893398934, 'KS': 0.9251101321585903, 'PRO-KS': 0.9343544857768052, 'ADJ': 0.9775910364145658, 'ADV-KS': 0.8285714285714286, 'N': 0.9818749249789941, 'PREP': 0.984428609131697, 'PROSUB': 0.926829268292683, 'PREP+PROPESS': 1.0, 'PDEN': 0.9128630705394191, 'V': 0.9967320261437909, 'PREP+ADV': 1.0, 'PCP': 0.9783132530120482, 'CUR': 0.991304347826087, 'ADV': 0.9404255319148936, 'PU': 1.0, 'ART': 0.9917440660474717}</td>\n",
       "    </tr>\n",
       "    <tr>\n",
       "      <td>3</td>\n",
       "      <td>0.026000</td>\n",
       "      <td>0.068932</td>\n",
       "      <td>0.956242</td>\n",
       "      <td>0.984121</td>\n",
       "      <td>{'PREP+PROADJ': 1.0, 'IN': 1.0, 'PREP+PRO-KS': 0.7272727272727273, 'NPROP': 0.9746603970741902, 'PREP+PROSUB': 0.8461538461538461, 'KC': 0.9902702702702703, 'PROPESS': 0.9930232558139535, 'NUM': 0.9783236994219653, 'PROADJ': 0.9881956155143339, 'PREP+ART': 0.992171405026782, 'KS': 0.9217391304347826, 'PRO-KS': 0.9282608695652174, 'ADJ': 0.9636856368563685, 'ADV-KS': 0.8235294117647058, 'N': 0.9860859044162129, 'PREP': 0.9857142857142858, 'PROSUB': 0.9137254901960784, 'PREP+PROPESS': 1.0, 'PDEN': 0.9502262443438914, 'V': 0.9954841946813848, 'PREP+ADV': 1.0, 'PCP': 0.9806295399515739, 'CUR': 0.991304347826087, 'ADV': 0.9400826446280992, 'PU': 1.0, 'ART': 0.9917525773195877}</td>\n",
       "    </tr>\n",
       "    <tr>\n",
       "      <td>4</td>\n",
       "      <td>0.013200</td>\n",
       "      <td>0.080585</td>\n",
       "      <td>0.960170</td>\n",
       "      <td>0.984619</td>\n",
       "      <td>{'PREP+PROADJ': 1.0, 'IN': 1.0, 'PREP+PRO-KS': 0.7692307692307693, 'NPROP': 0.9756480754124116, 'PREP+PROSUB': 0.88, 'KC': 0.9881720430107527, 'PROPESS': 0.9953488372093023, 'NUM': 0.9741379310344828, 'PROADJ': 0.9784768211920529, 'PREP+ART': 0.9917593737124022, 'KS': 0.9264069264069265, 'PRO-KS': 0.94, 'ADJ': 0.9663591969614759, 'ADV-KS': 0.8285714285714286, 'N': 0.985741904301595, 'PREP': 0.9862397459645409, 'PROSUB': 0.9390243902439024, 'PREP+PROPESS': 1.0, 'PDEN': 0.9279661016949152, 'V': 0.9962330487192366, 'PREP+ADV': 1.0, 'PCP': 0.9794933655006032, 'CUR': 0.991304347826087, 'ADV': 0.9535864978902954, 'PU': 1.0, 'ART': 0.990724836825833}</td>\n",
       "    </tr>\n",
       "    <tr>\n",
       "      <td>5</td>\n",
       "      <td>0.005600</td>\n",
       "      <td>0.090561</td>\n",
       "      <td>0.961374</td>\n",
       "      <td>0.984588</td>\n",
       "      <td>{'PREP+PROADJ': 1.0, 'IN': 1.0, 'PREP+PRO-KS': 0.7692307692307693, 'NPROP': 0.9731700963792654, 'PREP+PROSUB': 0.9166666666666666, 'KC': 0.9892357373519914, 'PROPESS': 0.9953271028037384, 'NUM': 0.9811866859623734, 'PROADJ': 0.98, 'PREP+ART': 0.9921584812216261, 'KS': 0.9244060475161987, 'PRO-KS': 0.9383259911894273, 'ADJ': 0.9679869777536625, 'ADV-KS': 0.8235294117647058, 'N': 0.9863345023582053, 'PREP': 0.9854497354497355, 'PROSUB': 0.9352226720647774, 'PREP+PROPESS': 1.0, 'PDEN': 0.9361702127659575, 'V': 0.9964824120603015, 'PREP+ADV': 1.0, 'PCP': 0.9782870928829915, 'CUR': 0.991304347826087, 'ADV': 0.9424686192468619, 'PU': 1.0, 'ART': 0.9927710843373494}</td>\n",
       "    </tr>\n",
       "  </tbody>\n",
       "</table><p>"
      ],
      "text/plain": [
       "<IPython.core.display.HTML object>"
      ]
     },
     "metadata": {},
     "output_type": "display_data"
    },
    {
     "data": {
      "text/plain": [
       "TrainOutput(global_step=23720, training_loss=0.037644172810382424, metrics={'train_runtime': 1671.0664, 'train_samples_per_second': 113.544, 'train_steps_per_second': 14.195, 'total_flos': 1.835607201292267e+16, 'train_loss': 0.037644172810382424, 'epoch': 5.0})"
      ]
     },
     "execution_count": 10,
     "metadata": {},
     "output_type": "execute_result"
    }
   ],
   "source": [
    "trainer.train()"
   ]
  },
  {
   "cell_type": "markdown",
   "metadata": {},
   "source": [
    "# Model evaluation"
   ]
  },
  {
   "cell_type": "markdown",
   "metadata": {},
   "source": [
    "## Against test data"
   ]
  },
  {
   "cell_type": "code",
   "execution_count": 34,
   "metadata": {},
   "outputs": [],
   "source": [
    "import matplotlib.pyplot as plt\n",
    "import numpy as np\n",
    "import math\n",
    "\n",
    "def plot_class_precisions(per_class_precision):\n",
    "    \"\"\"\n",
    "    Plots a bar chart of precision scores for each class.\n",
    "\n",
    "    Args:\n",
    "    - per_class_precision (dict): Dictionary mapping class names (e.g., \"NOUN\", \"VERB\") to precision scores.\n",
    "\n",
    "    \"\"\"\n",
    "    # Extract class names and precision scores\n",
    "    class_names = list(per_class_precision.keys())\n",
    "    precision_scores = list(per_class_precision.values())\n",
    "\n",
    "    # Sort by precision (descending order)\n",
    "    sorted_indices = np.argsort(precision_scores)[::-1]\n",
    "    sorted_class_names = [class_names[i] for i in sorted_indices]\n",
    "    sorted_precisions = [precision_scores[i] for i in sorted_indices]\n",
    "\n",
    "    # Plot bar chart\n",
    "    plt.figure(figsize=(10, 6))\n",
    "    plt.bar(sorted_class_names, sorted_precisions, color='skyblue', edgecolor='black')\n",
    "\n",
    "    # Add labels and title\n",
    "    plt.xlabel(\"Classes\", fontsize=12)\n",
    "    plt.ylabel(\"Precision\", fontsize=12)\n",
    "    plt.title(\"Precision per Class (Sorted)\", fontsize=12)\n",
    "    plt.xticks(rotation=45, ha=\"right\", fontsize=10)\n",
    "    plt.ylim(0, 1)  # Precision values are between 0 and 1\n",
    "\n",
    "    # Annotate the bars with precision values\n",
    "    for i, precision in enumerate(sorted_precisions):\n",
    "        precision_shown = math.floor(precision * 100) / 100\n",
    "        plt.text(i, precision, f\"{precision_shown:.2f}\", ha=\"center\", fontsize=8)\n",
    "\n",
    "    # Display the plot\n",
    "    plt.tight_layout()\n",
    "    plt.show()\n"
   ]
  },
  {
   "cell_type": "code",
   "execution_count": 12,
   "metadata": {},
   "outputs": [
    {
     "data": {
      "text/html": [
       "\n",
       "    <div>\n",
       "      \n",
       "      <progress value='1249' max='1249' style='width:300px; height:20px; vertical-align: middle;'></progress>\n",
       "      [1249/1249 00:22]\n",
       "    </div>\n",
       "    "
      ],
      "text/plain": [
       "<IPython.core.display.HTML object>"
      ]
     },
     "metadata": {},
     "output_type": "display_data"
    },
    {
     "data": {
      "text/plain": [
       "{'eval_loss': 0.12849636375904083,\n",
       " 'eval_macro_precision': 0.9395508933396578,\n",
       " 'eval_weighted_precision': 0.9807988081887481,\n",
       " 'eval_per_class_precision': {'PREP+PROADJ': 0.9935691318327974,\n",
       "  'IN': 0.5693430656934306,\n",
       "  'PREP+PRO-KS': 0.7941176470588235,\n",
       "  'NPROP': 0.9770374552983249,\n",
       "  'PREP+PROSUB': 0.8918918918918919,\n",
       "  'KC': 0.9849157054125999,\n",
       "  'PROPESS': 0.9923291492329149,\n",
       "  'NUM': 0.9759615384615384,\n",
       "  'PROADJ': 0.9696704578594343,\n",
       "  'PREP+ART': 0.9933398628795299,\n",
       "  'KS': 0.9365206910405786,\n",
       "  'PRO-KS': 0.9212942719720157,\n",
       "  'ADJ': 0.9616149795201873,\n",
       "  'ADV-KS': 0.8454935622317596,\n",
       "  'N': 0.9814037686168025,\n",
       "  'PREP': 0.9808445024315028,\n",
       "  'PROSUB': 0.927766732935719,\n",
       "  'PREP+PROPESS': 1.0,\n",
       "  'PDEN': 0.8824577025823687,\n",
       "  'V': 0.995479939055358,\n",
       "  'PREP+ADV': 0.9655172413793104,\n",
       "  'PCP': 0.9719162995594713,\n",
       "  'CUR': 0.9966216216216216,\n",
       "  'ADV': 0.9309773605742684,\n",
       "  'PU': 0.9996283495001301,\n",
       "  'ART': 0.988610298188721},\n",
       " 'eval_runtime': 23.1153,\n",
       " 'eval_samples_per_second': 432.051,\n",
       " 'eval_steps_per_second': 54.033,\n",
       " 'epoch': 5.0}"
      ]
     },
     "execution_count": 12,
     "metadata": {},
     "output_type": "execute_result"
    }
   ],
   "source": [
    "model_results = trainer.evaluate(tokenized_dataset[\"test\"])\n",
    "\n",
    "model_results"
   ]
  },
  {
   "cell_type": "code",
   "execution_count": 35,
   "metadata": {},
   "outputs": [
    {
     "data": {
      "image/png": "[encoded data removed]",
      "text/plain": [
       "<Figure size 1000x600 with 1 Axes>"
      ]
     },
     "metadata": {},
     "output_type": "display_data"
    }
   ],
   "source": [
    "plot_class_precisions(model_results[\"eval_per_class_precision\"])\n"
   ]
  },
  {
   "cell_type": "markdown",
   "metadata": {},
   "source": [
    "## Against the `lisaterumi/postagger-portuguese` model"
   ]
  },
  {
   "cell_type": "code",
   "execution_count": 12,
   "metadata": {},
   "outputs": [],
   "source": [
    "from transformers import BertForTokenClassification\n",
    "\n",
    "competitor_model = BertForTokenClassification.from_pretrained(competitor_model_name)\n",
    "competitor_model.to(\"cuda\")\n",
    "\n",
    "competitor_tokenizer = AutoTokenizer.from_pretrained(competitor_model_name)"
   ]
  },
  {
   "cell_type": "code",
   "execution_count": null,
   "metadata": {},
   "outputs": [],
   "source": [
    "def tokenize_and_align_labels_for_comparison(examples):\n",
    "    tokenized_inputs = competitor_tokenizer(\n",
    "        examples[\"tokens\"],\n",
    "        truncation=True,\n",
    "        is_split_into_words=True,\n",
    "        padding=\"max_length\",\n",
    "        max_length=128,\n",
    "    )\n",
    "\n",
    "    # Align labels with tokenized inputs\n",
    "    labels = []\n",
    "    for i, label in enumerate(examples[\"labels\"]):\n",
    "        word_ids = tokenized_inputs.word_ids(batch_index=i)\n",
    "        aligned_labels = [\n",
    "            -100 if word_id is None else label[word_id] for word_id in word_ids\n",
    "        ]\n",
    "        labels.append(aligned_labels)\n",
    "\n",
    "    tokenized_inputs[\"labels\"] = labels\n",
    "    return tokenized_inputs\n",
    "\n",
    "\n",
    "tokenized_test_dataset_comparison = tokenized_dataset.map(\n",
    "    tokenize_and_align_labels_for_comparison, batched=True\n",
    ")"
   ]
  },
  {
   "cell_type": "code",
   "execution_count": null,
   "metadata": {},
   "outputs": [],
   "source": [
    "# We don't need to train our model, so we'll use\n",
    "# the Trainer API with dummy values\n",
    "dummy_training_args = TrainingArguments(\n",
    "    output_dir=\"./results\",\n",
    "    logging_dir=\"./logs\",\n",
    "    do_train=False,\n",
    "    do_eval=True,\n",
    "    evaluation_strategy=\"no\",\n",
    "    use_cpu=False,\n",
    ")\n",
    "\n",
    "competitor_trainer = Trainer(\n",
    "    model=competitor_model,\n",
    "    args=dummy_training_args,\n",
    "    eval_dataset=tokenized_test_dataset_comparison[\"validation\"],\n",
    "    processing_class=competitor_tokenizer,\n",
    "    compute_metrics=compute_metrics,\n",
    ")"
   ]
  },
  {
   "cell_type": "code",
   "execution_count": null,
   "metadata": {},
   "outputs": [],
   "source": [
    "eval_results_comparison = competitor_trainer.evaluate(\n",
    "    tokenized_test_dataset_comparison[\"test\"]\n",
    ")\n",
    "\n",
    "eval_results_comparison"
   ]
  }
 ],
 "metadata": {
  "kernelspec": {
   "display_name": ".venv",
   "language": "python",
   "name": "python3"
  },
  "language_info": {
   "codemirror_mode": {
    "name": "ipython",
    "version": 3
   },
   "file_extension": ".py",
   "mimetype": "text/x-python",
   "name": "python",
   "nbconvert_exporter": "python",
   "pygments_lexer": "ipython3",
   "version": "3.10.12"
  }
 },
 "nbformat": 4,
 "nbformat_minor": 2
}
